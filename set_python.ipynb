{
 "cells": [
  {
   "cell_type": "code",
   "execution_count": 1,
   "metadata": {},
   "outputs": [],
   "source": [
    "#Set\n",
    "#Sets are used to store multiple items in a single variable.\n",
    "\n",
    "#Set is one of 4 built-in data types in Python used to store collections of data, the other 3 are List, Tuple, and Dictionary, all with different qualities and usage.\n",
    "\n",
    "#A set is a collection which is both unordered and unindexed.\n",
    "\n",
    "#Sets are written with curly brackets."
   ]
  },
  {
   "cell_type": "code",
   "execution_count": 2,
   "metadata": {},
   "outputs": [],
   "source": [
    "st={\"egg\",\"bread\",\"pasta\",\"maggie\"}"
   ]
  },
  {
   "cell_type": "code",
   "execution_count": 4,
   "metadata": {},
   "outputs": [
    {
     "name": "stdout",
     "output_type": "stream",
     "text": [
      "{'bread', 'maggie', 'egg', 'pasta'}\n"
     ]
    }
   ],
   "source": [
    "#Note: Sets are unordered, so you cannot be sure in which order the items will appear.\n",
    "print(st)"
   ]
  },
  {
   "cell_type": "code",
   "execution_count": 5,
   "metadata": {},
   "outputs": [],
   "source": [
    "#Set Items\n",
    "#Set items are unordered, unchangeable, and do not allow duplicate values"
   ]
  },
  {
   "cell_type": "code",
   "execution_count": 6,
   "metadata": {},
   "outputs": [
    {
     "name": "stdout",
     "output_type": "stream",
     "text": [
      "{True, 34, 40, 'male', 'abc'}\n"
     ]
    }
   ],
   "source": [
    "#A set can contain different data types:\n",
    "set1 = {\"abc\", 34, True, 40, \"male\"}\n",
    "print(set1)"
   ]
  },
  {
   "cell_type": "code",
   "execution_count": 8,
   "metadata": {},
   "outputs": [
    {
     "name": "stdout",
     "output_type": "stream",
     "text": [
      "{'apple', 'berry', 'papaya'}\n"
     ]
    }
   ],
   "source": [
    "#he set() Constructor\n",
    "#It is also possible to use the set() constructor to make a set.\n",
    "fruits=set((\"apple\",\"papaya\",\"berry\"))\n",
    "print(fruits)"
   ]
  },
  {
   "cell_type": "code",
   "execution_count": 10,
   "metadata": {},
   "outputs": [
    {
     "name": "stdout",
     "output_type": "stream",
     "text": [
      "apple\n",
      "berry\n",
      "papaya\n"
     ]
    }
   ],
   "source": [
    "#Access Items\n",
    "#You cannot access items in a set by referring to an index or a key.\n",
    "\n",
    "#But you can loop through the set items using a for loop, or ask if a specified value is present in a set,by using the in keyword.\n",
    "\n",
    "for i in fruits:\n",
    "    print(i)"
   ]
  },
  {
   "cell_type": "code",
   "execution_count": 11,
   "metadata": {},
   "outputs": [
    {
     "name": "stdout",
     "output_type": "stream",
     "text": [
      "False\n"
     ]
    }
   ],
   "source": [
    "#find out item present in the list without if condition\n",
    "print(\"banana\" in fruits)"
   ]
  },
  {
   "cell_type": "code",
   "execution_count": 12,
   "metadata": {},
   "outputs": [
    {
     "name": "stdout",
     "output_type": "stream",
     "text": [
      "True\n"
     ]
    }
   ],
   "source": [
    "print(\"berry\" in fruits)"
   ]
  },
  {
   "cell_type": "code",
   "execution_count": 13,
   "metadata": {},
   "outputs": [],
   "source": [
    "#Change Items\n",
    "#Once a set is created, you cannot change its items, but you can add new items.\n"
   ]
  },
  {
   "cell_type": "code",
   "execution_count": 16,
   "metadata": {},
   "outputs": [
    {
     "name": "stdout",
     "output_type": "stream",
     "text": [
      "{'chikku', 'black_berry', 'pinapple', 'banana'}\n"
     ]
    }
   ],
   "source": [
    "#add iem in set using add() method\n",
    "new_fr={\"banana\",\"pinapple\",\"chikku\"}\n",
    "new_fr.add(\"black_berry\")\n",
    "print(new_fr)"
   ]
  },
  {
   "cell_type": "code",
   "execution_count": 18,
   "metadata": {},
   "outputs": [
    {
     "data": {
      "text/plain": [
       "{'apple', 'banana', 'berry', 'black_berry', 'chikku', 'papaya', 'pinapple'}"
      ]
     },
     "execution_count": 18,
     "metadata": {},
     "output_type": "execute_result"
    }
   ],
   "source": [
    "#Add Sets\n",
    "#To add items from another set into the current set, use the update() method.\n",
    "fruits.update(new_fr)\n",
    "fruits"
   ]
  },
  {
   "cell_type": "code",
   "execution_count": 21,
   "metadata": {},
   "outputs": [
    {
     "name": "stdout",
     "output_type": "stream",
     "text": [
      "{'stowberry', 'black_berry', 'berry', 'chikku', 'papaya', 'banana', 'apple', 'kiwi', 'pinapple'}\n"
     ]
    }
   ],
   "source": [
    "#Add Any Iterable\n",
    "#The object in the update() method does not have to be a set, it can be any iterable object (tuples, lists, dictionaries etc.).\n",
    "\n",
    "frt_list=[\"kiwi\",\"stowberry\"]\n",
    "fruits.update(frt_list)\n",
    "print(fruits)"
   ]
  },
  {
   "cell_type": "code",
   "execution_count": 29,
   "metadata": {},
   "outputs": [
    {
     "ename": "KeyError",
     "evalue": "'banana'",
     "output_type": "error",
     "traceback": [
      "\u001b[1;31m---------------------------------------------------------------------------\u001b[0m",
      "\u001b[1;31mKeyError\u001b[0m                                  Traceback (most recent call last)",
      "\u001b[1;32m<ipython-input-29-a977b14be1dd>\u001b[0m in \u001b[0;36m<module>\u001b[1;34m\u001b[0m\n\u001b[0;32m      3\u001b[0m \u001b[1;31m# If the item to remove does not exist, remove() will raise an error.\u001b[0m\u001b[1;33m\u001b[0m\u001b[1;33m\u001b[0m\u001b[1;33m\u001b[0m\u001b[0m\n\u001b[0;32m      4\u001b[0m \u001b[1;33m\u001b[0m\u001b[0m\n\u001b[1;32m----> 5\u001b[1;33m \u001b[0mfruits\u001b[0m\u001b[1;33m.\u001b[0m\u001b[0mremove\u001b[0m\u001b[1;33m(\u001b[0m\u001b[1;34m\"banana\"\u001b[0m\u001b[1;33m)\u001b[0m\u001b[1;33m\u001b[0m\u001b[1;33m\u001b[0m\u001b[0m\n\u001b[0m\u001b[0;32m      6\u001b[0m \u001b[0mprint\u001b[0m\u001b[1;33m(\u001b[0m\u001b[0mfruits\u001b[0m\u001b[1;33m)\u001b[0m\u001b[1;33m\u001b[0m\u001b[1;33m\u001b[0m\u001b[0m\n",
      "\u001b[1;31mKeyError\u001b[0m: 'banana'"
     ]
    }
   ],
   "source": [
    "#Remove Item\n",
    "#To remove an item in a set, use the remove(), or the discard() method.\n",
    "# If the item to remove does not exist, remove() will raise an error.\n",
    "\n",
    "fruits.remove(\"banana\")\n",
    "print(fruits)"
   ]
  },
  {
   "cell_type": "code",
   "execution_count": 28,
   "metadata": {},
   "outputs": [
    {
     "name": "stdout",
     "output_type": "stream",
     "text": [
      "{'stowberry', 'black_berry', 'chikku', 'papaya', 'apple', 'kiwi', 'pinapple'}\n"
     ]
    }
   ],
   "source": [
    "#If the item to remove does not exist, discard() will NOT raise an error\n",
    "fruits.discard(\"berry\")\n",
    "print(fruits)"
   ]
  },
  {
   "cell_type": "code",
   "execution_count": 30,
   "metadata": {},
   "outputs": [
    {
     "name": "stdout",
     "output_type": "stream",
     "text": [
      "stowberry\n"
     ]
    }
   ],
   "source": [
    "#You can also use the pop() method to remove an item, but this method will remove the last item. Remember that sets are \n",
    "#unordered, so you will not know what item that gets removed.\n",
    "\n",
    "#The return value of the pop() method is the removed item.\n",
    "\n",
    "x=fruits.pop()\n",
    "print(x)"
   ]
  },
  {
   "cell_type": "code",
   "execution_count": 31,
   "metadata": {},
   "outputs": [
    {
     "name": "stdout",
     "output_type": "stream",
     "text": [
      "{'black_berry', 'chikku', 'papaya', 'apple', 'kiwi', 'pinapple'}\n"
     ]
    }
   ],
   "source": [
    "print(fruits)"
   ]
  },
  {
   "cell_type": "code",
   "execution_count": 32,
   "metadata": {},
   "outputs": [],
   "source": [
    "#The clear() method empties the set:\n",
    "fruits.clear()"
   ]
  },
  {
   "cell_type": "code",
   "execution_count": null,
   "metadata": {},
   "outputs": [],
   "source": [
    "#The del keyword will delete the set completely\n",
    "del fruits\n",
    "print(fruits)"
   ]
  },
  {
   "cell_type": "code",
   "execution_count": 33,
   "metadata": {},
   "outputs": [],
   "source": [
    "#Join Two Sets\n",
    "#There are several ways to join two or more sets in Python.\n",
    "\n",
    "#You can use the union() method that returns a new set containing all items from both sets, or the update() method that inserts all the items from one set into another:\n"
   ]
  },
  {
   "cell_type": "code",
   "execution_count": 34,
   "metadata": {},
   "outputs": [
    {
     "name": "stdout",
     "output_type": "stream",
     "text": [
      "{1, 'b', 2, 3, 'a', 'c'}\n"
     ]
    }
   ],
   "source": [
    "#The union() method returns a new set with all items from both sets:\n",
    "set1 = {\"a\", \"b\" , \"c\"}\n",
    "set2 = {1, 2, 3}\n",
    "\n",
    "set3 = set1.union(set2)\n",
    "print(set3)"
   ]
  },
  {
   "cell_type": "code",
   "execution_count": 35,
   "metadata": {},
   "outputs": [
    {
     "name": "stdout",
     "output_type": "stream",
     "text": [
      "{1, 'b', 2, 3, 'a', 'c'}\n"
     ]
    }
   ],
   "source": [
    "#The update() method inserts the items in set2 into set1:\n",
    "\n",
    "set1 = {\"a\", \"b\" , \"c\"}\n",
    "set2 = {1, 2, 3}\n",
    "\n",
    "set1.update(set2)\n",
    "print(set1)\n"
   ]
  },
  {
   "cell_type": "code",
   "execution_count": 36,
   "metadata": {},
   "outputs": [],
   "source": [
    "#Note: Both union() and update() will exclude any duplicate items"
   ]
  },
  {
   "cell_type": "code",
   "execution_count": 37,
   "metadata": {},
   "outputs": [
    {
     "name": "stdout",
     "output_type": "stream",
     "text": [
      "{'apple'}\n"
     ]
    }
   ],
   "source": [
    "#The intersection_update() method will keep only the items that are present in both sets.:\n",
    "x = {\"apple\", \"banana\", \"cherry\"}\n",
    "y = {\"google\", \"microsoft\", \"apple\"}\n",
    "\n",
    "x.intersection_update(y)\n",
    "\n",
    "print(x)"
   ]
  },
  {
   "cell_type": "code",
   "execution_count": 38,
   "metadata": {},
   "outputs": [
    {
     "name": "stdout",
     "output_type": "stream",
     "text": [
      "{'microsoft', 'cherry', 'banana', 'google'}\n"
     ]
    }
   ],
   "source": [
    "#The symmetric_difference_update() method will keep only the elements that are NOT present in both sets.\n",
    "\n",
    "x = {\"apple\", \"banana\", \"cherry\"}\n",
    "y = {\"google\", \"microsoft\", \"apple\"}\n",
    "\n",
    "x.symmetric_difference_update(y)\n",
    "\n",
    "print(x)"
   ]
  },
  {
   "cell_type": "code",
   "execution_count": null,
   "metadata": {},
   "outputs": [],
   "source": [
    "#Set Methods\n",
    "#Python has a set of built-in methods that you can use on sets.\n",
    "\n",
    "#Method\tDescription\n",
    "#add()\tAdds an element to the set\n",
    "#clear()\tRemoves all the elements from the set\n",
    "#copy()\tReturns a copy of the set\n",
    "#difference()\tReturns a set containing the difference between two or more sets\n",
    "#difference_update()\tRemoves the items in this set that are also included in another, specified set\n",
    "#discard()\tRemove the specified item\n",
    "#intersection()\tReturns a set, that is the intersection of two other sets\n",
    "#intersection_update()\tRemoves the items in this set that are not present in other, specified set(s)\n",
    "#isdisjoint()\tReturns whether two sets have a intersection or not\n",
    "#issubset()\tReturns whether another set contains this set or not\n",
    "#issuperset()\tReturns whether this set contains another set or not\n",
    "#pop()\tRemoves an element from the set\n",
    "#remove()\tRemoves the specified element\n",
    "#symmetric_difference()\tReturns a set with the symmetric differences of two sets\n",
    "#symmetric_difference_update()\tinserts the symmetric differences from this set and another\n",
    "#union()\tReturn a set containing the union of sets\n",
    "#update()\tUpdate the set with the union of this set and others\n"
   ]
  }
 ],
 "metadata": {
  "kernelspec": {
   "display_name": "Python 3",
   "language": "python",
   "name": "python3"
  },
  "language_info": {
   "codemirror_mode": {
    "name": "ipython",
    "version": 3
   },
   "file_extension": ".py",
   "mimetype": "text/x-python",
   "name": "python",
   "nbconvert_exporter": "python",
   "pygments_lexer": "ipython3",
   "version": "3.8.5"
  }
 },
 "nbformat": 4,
 "nbformat_minor": 4
}
