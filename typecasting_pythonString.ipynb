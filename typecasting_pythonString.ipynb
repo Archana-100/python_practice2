{
 "cells": [
  {
   "cell_type": "code",
   "execution_count": null,
   "metadata": {},
   "outputs": [],
   "source": [
    "# type casting in pythone\n"
   ]
  },
  {
   "cell_type": "code",
   "execution_count": 1,
   "metadata": {},
   "outputs": [],
   "source": [
    "x=7\n",
    "y=2"
   ]
  },
  {
   "cell_type": "code",
   "execution_count": 4,
   "metadata": {},
   "outputs": [
    {
     "name": "stdout",
     "output_type": "stream",
     "text": [
      "Addition Of X and y= 9\n"
     ]
    }
   ],
   "source": [
    "print(\"Addition Of X and y=\",x+y)"
   ]
  },
  {
   "cell_type": "code",
   "execution_count": 5,
   "metadata": {},
   "outputs": [
    {
     "name": "stdout",
     "output_type": "stream",
     "text": [
      "10.4\n"
     ]
    }
   ],
   "source": [
    "z=3.4\n",
    "print(x+z)"
   ]
  },
  {
   "cell_type": "code",
   "execution_count": 17,
   "metadata": {},
   "outputs": [
    {
     "name": "stdout",
     "output_type": "stream",
     "text": [
      "Output is= 15.345\n"
     ]
    }
   ],
   "source": [
    "#this code add integer and float value and show Axact output it means output in float formate\n",
    "\n",
    "s=8.345\n",
    "print(\"Output is=\",x+s)"
   ]
  },
  {
   "cell_type": "code",
   "execution_count": null,
   "metadata": {},
   "outputs": [],
   "source": [
    "# this code change the float value into the integer value and show output in integer formate\n",
    "\n",
    "s=int(8.345)\n",
    "print(\"Output is=\",x+s)"
   ]
  },
  {
   "cell_type": "code",
   "execution_count": 29,
   "metadata": {},
   "outputs": [],
   "source": [
    "# python string \n",
    "# if u want to Use multi line String then Use Triple Double Qutation At the start and end of the String\n",
    "\n",
    "D=\"\"\"Hey guys How are u all,\n",
    "  welcome to the city of love, \n",
    " Tell me anything that u like most \"\"\""
   ]
  },
  {
   "cell_type": "code",
   "execution_count": 30,
   "metadata": {},
   "outputs": [],
   "source": [
    "# if u want to Single line string output then write string in Double Qutation bar \n",
    "S=\"hello Guys, How are u All\""
   ]
  },
  {
   "cell_type": "code",
   "execution_count": 31,
   "metadata": {},
   "outputs": [
    {
     "name": "stdout",
     "output_type": "stream",
     "text": [
      "hello Guys, How are u All\n"
     ]
    }
   ],
   "source": [
    "print(S)"
   ]
  },
  {
   "cell_type": "code",
   "execution_count": 27,
   "metadata": {},
   "outputs": [
    {
     "name": "stdout",
     "output_type": "stream",
     "text": [
      "Hey guys How are u all,\n",
      "  welcome to the city of love, \n",
      " Tell me anything that u like most \n"
     ]
    }
   ],
   "source": [
    "print(D)"
   ]
  },
  {
   "cell_type": "code",
   "execution_count": 40,
   "metadata": {},
   "outputs": [
    {
     "name": "stdout",
     "output_type": "stream",
     "text": [
      "7\n"
     ]
    }
   ],
   "source": [
    "# counting the string length\n",
    "A= \"Welcome\"\n",
    "print(len(A))\n"
   ]
  },
  {
   "cell_type": "code",
   "execution_count": 41,
   "metadata": {},
   "outputs": [
    {
     "name": "stdout",
     "output_type": "stream",
     "text": [
      "Hey guys How are u all,\n",
      "  welcome to the city of love, \n",
      " Tell me anything that u like most \n"
     ]
    }
   ],
   "source": [
    "print(D)\n"
   ]
  },
  {
   "cell_type": "code",
   "execution_count": 43,
   "metadata": {},
   "outputs": [
    {
     "name": "stdout",
     "output_type": "stream",
     "text": [
      "True\n"
     ]
    }
   ],
   "source": [
    "#Find word in Perticular sentence\n",
    "print(\"welcome\" in D)"
   ]
  },
  {
   "cell_type": "code",
   "execution_count": 100,
   "metadata": {},
   "outputs": [
    {
     "name": "stdout",
     "output_type": "stream",
     "text": [
      "yes, its present\n"
     ]
    }
   ],
   "source": [
    "#if condition in python, finding perticular word\n",
    "\n",
    "if \"welcome\" in D:\n",
    "    print(\"yes, its present\")\n"
   ]
  },
  {
   "cell_type": "code",
   "execution_count": 53,
   "metadata": {},
   "outputs": [
    {
     "name": "stdout",
     "output_type": "stream",
     "text": [
      "yes, its not present\n"
     ]
    }
   ],
   "source": [
    "#finding pertular word is not present\n",
    "if \"Hello\" not in D:\n",
    "    print(\"yes, its not present\")"
   ]
  },
  {
   "cell_type": "code",
   "execution_count": 54,
   "metadata": {},
   "outputs": [
    {
     "name": "stdout",
     "output_type": "stream",
     "text": [
      "hello Guys, How are u All\n"
     ]
    }
   ],
   "source": [
    "print(S)\n"
   ]
  },
  {
   "cell_type": "code",
   "execution_count": 57,
   "metadata": {},
   "outputs": [
    {
     "name": "stdout",
     "output_type": "stream",
     "text": [
      "ello\n"
     ]
    }
   ],
   "source": [
    "#Get the characters from position 2 to position 5, Note: The first character has index 0\n",
    "print(S[1:5])"
   ]
  },
  {
   "cell_type": "code",
   "execution_count": 58,
   "metadata": {},
   "outputs": [
    {
     "name": "stdout",
     "output_type": "stream",
     "text": [
      "hell\n"
     ]
    }
   ],
   "source": [
    "#Get the characters from the start to position 4\n",
    "print(S[:4])"
   ]
  },
  {
   "cell_type": "code",
   "execution_count": 59,
   "metadata": {},
   "outputs": [
    {
     "name": "stdout",
     "output_type": "stream",
     "text": [
      " Guys, How are u All\n"
     ]
    }
   ],
   "source": [
    "#Get the characters from position 5, and all the way to the end:\n",
    "print(S[5:])"
   ]
  },
  {
   "cell_type": "code",
   "execution_count": 71,
   "metadata": {},
   "outputs": [
    {
     "name": "stdout",
     "output_type": "stream",
     "text": [
      "hello Guys, How are \n"
     ]
    }
   ],
   "source": [
    "print(S[0:-5])\n"
   ]
  },
  {
   "cell_type": "code",
   "execution_count": 78,
   "metadata": {},
   "outputs": [],
   "source": [
    "#to conver string into upper case\n",
    "St= \" Hello guys, How are u  all\" "
   ]
  },
  {
   "cell_type": "code",
   "execution_count": 79,
   "metadata": {},
   "outputs": [
    {
     "name": "stdout",
     "output_type": "stream",
     "text": [
      " HELLO GUYS, HOW ARE U  ALL\n"
     ]
    }
   ],
   "source": [
    "print(St.upper())"
   ]
  },
  {
   "cell_type": "code",
   "execution_count": 80,
   "metadata": {},
   "outputs": [
    {
     "name": "stdout",
     "output_type": "stream",
     "text": [
      " hello guys, how are u  all\n"
     ]
    }
   ],
   "source": [
    "# To convert String into Lower case\n",
    "print(St.lower())"
   ]
  },
  {
   "cell_type": "code",
   "execution_count": 101,
   "metadata": {},
   "outputs": [
    {
     "name": "stdout",
     "output_type": "stream",
     "text": [
      "True\n"
     ]
    }
   ],
   "source": [
    "s"
   ]
  },
  {
   "cell_type": "code",
   "execution_count": 84,
   "metadata": {},
   "outputs": [
    {
     "name": "stdout",
     "output_type": "stream",
     "text": [
      "Hello guys, How are u  all\n"
     ]
    }
   ],
   "source": [
    "#The strip() method removes any whitespace from the beginning or the end:\n",
    "print(St.strip())"
   ]
  },
  {
   "cell_type": "code",
   "execution_count": 86,
   "metadata": {},
   "outputs": [
    {
     "name": "stdout",
     "output_type": "stream",
     "text": [
      " iello guys, iow are u  all\n"
     ]
    }
   ],
   "source": [
    "#The replace() method replaces a string with another string:\n",
    "\n",
    "print(St.replace(\"H\" , \"i\"))"
   ]
  },
  {
   "cell_type": "code",
   "execution_count": 87,
   "metadata": {},
   "outputs": [
    {
     "name": "stdout",
     "output_type": "stream",
     "text": [
      "[' Hello guys', ' How are u  all']\n"
     ]
    }
   ],
   "source": [
    "#The split() method splits the string into substrings if it finds instances of the separator:\n",
    "\n",
    "print(St.split(\",\"))"
   ]
  },
  {
   "cell_type": "code",
   "execution_count": 88,
   "metadata": {},
   "outputs": [
    {
     "name": "stdout",
     "output_type": "stream",
     "text": [
      " Hello guys, How are u  allhello Guys, How are u All\n"
     ]
    }
   ],
   "source": [
    "#String concatenate in python\n",
    "c=St+S\n",
    "print(c)"
   ]
  },
  {
   "cell_type": "code",
   "execution_count": 93,
   "metadata": {},
   "outputs": [
    {
     "name": "stdout",
     "output_type": "stream",
     "text": [
      " my age is 25 \n"
     ]
    }
   ],
   "source": [
    "#The format() method takes the passed arguments, formats them, and places them in the string where the placeholders {} are:\n",
    "age=25\n",
    "txt=\" my age is {} \" \n",
    "print(txt.format(age))"
   ]
  },
  {
   "cell_type": "code",
   "execution_count": 97,
   "metadata": {},
   "outputs": [
    {
     "name": "stdout",
     "output_type": "stream",
     "text": [
      "first price20, second price50, third prise25 \n"
     ]
    }
   ],
   "source": [
    "f_price=20\n",
    "s_price=50\n",
    "t_price=25\n",
    "total= \"first price{}, second price{}, third prise{} \"\n",
    "print(total.format(f_price,s_price,t_price))"
   ]
  },
  {
   "cell_type": "code",
   "execution_count": 98,
   "metadata": {},
   "outputs": [
    {
     "name": "stdout",
     "output_type": "stream",
     "text": [
      "first price25, second price20, third price50 \n"
     ]
    }
   ],
   "source": [
    "total= \"first price{2}, second price{0}, third price{1} \"\n",
    "print(total.format(f_price,s_price,t_price))"
   ]
  },
  {
   "cell_type": "code",
   "execution_count": null,
   "metadata": {},
   "outputs": [],
   "source": [
    "#capitalize()\tConverts the first character to upper case\n",
    "#casefold()\tConverts string into lower case\n",
    "#center()\tReturns a centered string\n",
    "#count()\tReturns the number of times a specified value occurs in a string\n",
    "#encode()\tReturns an encoded version of the string\n",
    "#endswith()\tReturns true if the string ends with the specified value\n",
    "#expandtabs()\tSets the tab size of the string\n",
    "#find()\tSearches the string for a specified value and returns the position of where it was found\n",
    "#format()\tFormats specified values in a string\n",
    "#format_map()\tFormats specified values in a string\n",
    "#index()\tSearches the string for a specified value and returns the position of where it was found\n",
    "#isalnum()\tReturns True if all characters in the string are alphanumeric\n",
    "#isalpha()\tReturns True if all characters in the string are in the alphabet\n",
    "#isdecimal()\tReturns True if all characters in the string are decimals\n",
    "#isdigit()\tReturns True if all characters in the string are digits\n",
    "#isidentifier()\tReturns True if the string is an identifier\n",
    "#islower()\tReturns True if all characters in the string are lower case\n",
    "#isnumeric()\tReturns True if all characters in the string are numeric\n",
    "#isprintable()\tReturns True if all characters in the string are printable\n",
    "#isspace()\tReturns True if all characters in the string are whitespaces\n",
    "#istitle()\tReturns True if the string follows the rules of a title\n",
    "#isupper()\tReturns True if all characters in the string are upper case\n",
    "#join()\tJoins the elements of an iterable to the end of the string\n",
    "#ljust()\tReturns a left justified version of the string\n",
    "#lower()\tConverts a string into lower case\n",
    "#lstrip()\tReturns a left trim version of the string\n",
    "#maketrans()\tReturns a translation table to be used in translations\n",
    "#partition()\tReturns a tuple where the string is parted into three parts\n",
    "#replace()\tReturns a string where a specified value is replaced with a specified value\n",
    "#rfind()\tSearches the string for a specified value and returns the last position of where it was found\n",
    "#rindex()\tSearches the string for a specified value and returns the last position of where it was found\n",
    "#rjust()\tReturns a right justified version of the string\n",
    "#rpartition()\tReturns a tuple where the string is parted into three parts\n",
    "#rsplit()\tSplits the string at the specified separator, and returns a list\n",
    "#rstrip()\tReturns a right trim version of the string\n",
    "#split()\tSplits the string at the specified separator, and returns a list\n",
    "#splitlines()\tSplits the string at line breaks and returns a list\n",
    "#startswith()\tReturns true if the string starts with the specified value\n",
    "#strip()\tReturns a trimmed version of the string\n",
    "#swapcase()\tSwaps cases, lower case becomes upper case and vice versa\n",
    "#title()\tConverts the first character of each word to upper case\n",
    "#translate()\tReturns a translated string\n",
    "#upper()\tConverts a string into upper case\n",
    "#zfill()\tFills the string with a specified number of 0 values at the beginning\n",
    "\n"
   ]
  },
  {
   "cell_type": "code",
   "execution_count": null,
   "metadata": {},
   "outputs": [],
   "source": []
  }
 ],
 "metadata": {
  "kernelspec": {
   "display_name": "Python 3",
   "language": "python",
   "name": "python3"
  },
  "language_info": {
   "codemirror_mode": {
    "name": "ipython",
    "version": 3
   },
   "file_extension": ".py",
   "mimetype": "text/x-python",
   "name": "python",
   "nbconvert_exporter": "python",
   "pygments_lexer": "ipython3",
   "version": "3.8.5"
  }
 },
 "nbformat": 4,
 "nbformat_minor": 4
}
